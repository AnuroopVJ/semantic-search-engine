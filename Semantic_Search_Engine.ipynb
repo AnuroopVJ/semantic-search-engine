{
 "cells": [
  {
   "cell_type": "code",
   "execution_count": null,
   "metadata": {
    "id": "yUK-eWrcCLUc"
   },
   "outputs": [],
   "source": [
    "!pip install chromadb\n"
   ]
  },
  {
   "cell_type": "code",
   "execution_count": null,
   "metadata": {
    "id": "AfZKOcMNCbVG"
   },
   "outputs": [],
   "source": [
    "import chromadb\n",
    "chroma_client = chromadb.PersistentClient(path=\"vectordb\")"
   ]
  },
  {
   "cell_type": "code",
   "execution_count": null,
   "metadata": {
    "id": "XuSD-EojCvWw"
   },
   "outputs": [],
   "source": [
    "collection = chroma_client.create_collection(name=\"search0_collection\")"
   ]
  },
  {
   "cell_type": "code",
   "execution_count": null,
   "metadata": {
    "id": "RqSj_GfkD8Mp"
   },
   "outputs": [],
   "source": [
    "from sqlalchemy import create_engine, Table, Column, String, MetaData,column,select,text\n",
    "# Set up database\n",
    "engine = create_engine(\"sqlite:////content//crawls.db\", echo=True)\n",
    "metadata = MetaData()\n",
    "\n",
    "urls_table = Table(\n",
    "    'crawlsTB', metadata,\n",
    "    Column('urls', String, primary_key=True),\n",
    "    Column('title', String),\n",
    "    Column('description', String)\n",
    ")\n",
    "# Create the table\n",
    "metadata.create_all(engine)\n"
   ]
  },
  {
   "cell_type": "code",
   "execution_count": null,
   "metadata": {
    "colab": {
     "base_uri": "https://localhost:8080/"
    },
    "collapsed": true,
    "executionInfo": {
     "elapsed": 213,
     "status": "ok",
     "timestamp": 1745825226736,
     "user": {
      "displayName": "Anuroop VJ",
      "userId": "11182114430340869570"
     },
     "user_tz": -330
    },
    "id": "xj3oM8mykjU5",
    "outputId": "4c241070-74c5-4842-a404-dbbf62316e56"
   },
   "outputs": [],
   "source": [
    "with engine.connect() as connection:\n",
    "    t = connection.execute(select(column(\"title\")).select_from(text(\"crawlsTB\")))\n",
    "    u = connection.execute(select(column(\"urls\")).select_from(text(\"crawlsTB\")))\n",
    "    d = connection.execute(select(column(\"description\")).select_from(text(\"crawlsTB\")))\n",
    "    i = connection.execute(select(column(\"id\")).select_from(text(\"crawlsTB\")))\n",
    "    urlso = u.fetchall()\n",
    "    titles = t.fetchall()\n",
    "    ids = i.fetchall()\n",
    "    des = d.fetchall()\n",
    "des"
   ]
  },
  {
   "cell_type": "code",
   "execution_count": null,
   "metadata": {
    "colab": {
     "base_uri": "https://localhost:8080/"
    },
    "collapsed": true,
    "executionInfo": {
     "elapsed": 135,
     "status": "ok",
     "timestamp": 1745825226875,
     "user": {
      "displayName": "Anuroop VJ",
      "userId": "11182114430340869570"
     },
     "user_tz": -330
    },
    "id": "bM7KWJ57Jw4d",
    "outputId": "3c579d5b-a0d9-44e9-f622-d027fa5ff9c9"
   },
   "outputs": [],
   "source": [
    "\n",
    "\n",
    "#dict\n",
    "metadatas = []\n",
    "for id,(url,) in enumerate(urlso):\n",
    "  metadatas.append({\"url\":url,})\n",
    "metadatas\n",
    "\n",
    "\n",
    "\n"
   ]
  },
  {
   "cell_type": "code",
   "execution_count": null,
   "metadata": {
    "colab": {
     "base_uri": "https://localhost:8080/"
    },
    "collapsed": true,
    "executionInfo": {
     "elapsed": 19,
     "status": "ok",
     "timestamp": 1745825226895,
     "user": {
      "displayName": "Anuroop VJ",
      "userId": "11182114430340869570"
     },
     "user_tz": -330
    },
    "id": "qndpCmi3bcQZ",
    "outputId": "b298187d-5327-49d6-dd59-6993cd53aa8b"
   },
   "outputs": [],
   "source": [
    "type(titles)\n",
    "for i in range(len(titles)):\n",
    "  titles[i] = titles[i][0]\n",
    "titles\n"
   ]
  },
  {
   "cell_type": "code",
   "execution_count": null,
   "metadata": {
    "colab": {
     "base_uri": "https://localhost:8080/"
    },
    "collapsed": true,
    "executionInfo": {
     "elapsed": 12,
     "status": "ok",
     "timestamp": 1745825226913,
     "user": {
      "displayName": "Anuroop VJ",
      "userId": "11182114430340869570"
     },
     "user_tz": -330
    },
    "id": "56VZjURK8g61",
    "outputId": "8d891fcf-f556-4b80-b2fc-606e5aa8a695"
   },
   "outputs": [],
   "source": [
    "for i in range(len(des)):\n",
    "  des[i] = des[i][0]\n",
    "des\n"
   ]
  },
  {
   "cell_type": "code",
   "execution_count": null,
   "metadata": {
    "colab": {
     "base_uri": "https://localhost:8080/"
    },
    "collapsed": true,
    "executionInfo": {
     "elapsed": 17,
     "status": "ok",
     "timestamp": 1745825226931,
     "user": {
      "displayName": "Anuroop VJ",
      "userId": "11182114430340869570"
     },
     "user_tz": -330
    },
    "id": "ZGyM4qe-fqt1",
    "outputId": "e07eaf80-261d-448a-c6ea-14f3dfbedd93"
   },
   "outputs": [],
   "source": [
    "for i in range(len(ids)):\n",
    "  ids[i] = ids[i][0]\n",
    "\n",
    "for i in range(len(ids)):\n",
    "  ids[i] = str(ids[i])\n",
    "ids"
   ]
  },
  {
   "cell_type": "code",
   "execution_count": null,
   "metadata": {
    "colab": {
     "base_uri": "https://localhost:8080/"
    },
    "collapsed": true,
    "executionInfo": {
     "elapsed": 92,
     "status": "ok",
     "timestamp": 1745825227024,
     "user": {
      "displayName": "Anuroop VJ",
      "userId": "11182114430340869570"
     },
     "user_tz": -330
    },
    "id": "VdOKJ1PH82VQ",
    "outputId": "af3ca2f1-8ea8-4a8b-c795-388f3b0a6633"
   },
   "outputs": [],
   "source": [
    "#join titles list to corresponding descrition wihtout geting tuples in the list\n",
    "for i in range(len(titles)):\n",
    "  titles[i] = titles[i] + \" \" + des[i]\n",
    "titles"
   ]
  },
  {
   "cell_type": "code",
   "execution_count": null,
   "metadata": {
    "colab": {
     "base_uri": "https://localhost:8080/"
    },
    "executionInfo": {
     "elapsed": 42813,
     "status": "ok",
     "timestamp": 1745825269849,
     "user": {
      "displayName": "Anuroop VJ",
      "userId": "11182114430340869570"
     },
     "user_tz": -330
    },
    "id": "eMN1Gu6bGMO3",
    "outputId": "e1e14aaa-a280-402c-acbd-27ca7f78dd8d"
   },
   "outputs": [],
   "source": [
    "collection.add(\n",
    "    documents=titles,\n",
    "    metadatas=metadatas,\n",
    "    ids=ids)"
   ]
  },
  {
   "cell_type": "code",
   "execution_count": null,
   "metadata": {
    "colab": {
     "base_uri": "https://localhost:8080/"
    },
    "collapsed": true,
    "executionInfo": {
     "elapsed": 361,
     "status": "ok",
     "timestamp": 1745825270216,
     "user": {
      "displayName": "Anuroop VJ",
      "userId": "11182114430340869570"
     },
     "user_tz": -330
    },
    "id": "pu3U4wq2owO5",
    "outputId": "3fae2427-bba8-4d55-ef29-27afd174aeb5"
   },
   "outputs": [],
   "source": [
    "collection.query(\n",
    "    query_texts=[\"what is chemistry?\"],\n",
    "    n_results=3,\n",
    "    include=[\"documents\",\"metadatas\"]\n",
    ")"
   ]
  },
  {
   "cell_type": "code",
   "execution_count": null,
   "metadata": {
    "colab": {
     "base_uri": "https://localhost:8080/"
    },
    "executionInfo": {
     "elapsed": 366,
     "status": "ok",
     "timestamp": 1745825270593,
     "user": {
      "displayName": "Anuroop VJ",
      "userId": "11182114430340869570"
     },
     "user_tz": -330
    },
    "id": "d3993xbmG_v3",
    "outputId": "34fcaa97-4882-4977-8558-aa2646221219"
   },
   "outputs": [],
   "source": [
    "import chromadb\n",
    "\n",
    "# Connect to ChromaDB persistent client\n",
    "chroma_client = chromadb.PersistentClient(path=\"vectordb\")\n",
    "\n",
    "# Try to get collection, if not found, create it\n",
    "collection = chroma_client.get_collection(name=\"search0_collection\")\n",
    "\n",
    "# Now you can add documents if needed, OR query\n",
    "results = collection.query(\n",
    "    query_texts=[\"what is physics?\"],\n",
    "    n_results=3,\n",
    "    include=[\"documents\", \"metadatas\"]\n",
    ")\n",
    "\n",
    "print(results)"
   ]
  },
  {
   "cell_type": "code",
   "execution_count": null,
   "metadata": {
    "id": "B3OEe9BlVFIy"
   },
   "outputs": [],
   "source": [
    "!pip install streamlit-extras"
   ]
  },
  {
   "cell_type": "code",
   "execution_count": null,
   "metadata": {
    "id": "XgtK-wBUGgBX"
   },
   "outputs": [],
   "source": [
    "!wget -q -O - ipv4.icanhazip.com\n",
    "!streamlit run app.py & npx localtunnel --port 8501"
   ]
  }
 ],
 "metadata": {
  "colab": {
   "authorship_tag": "ABX9TyMJ9d6JgV1FOAKo7q9lcZwH",
   "provenance": []
  },
  "kernelspec": {
   "display_name": "Python 3",
   "name": "python3"
  },
  "language_info": {
   "name": "python"
  }
 },
 "nbformat": 4,
 "nbformat_minor": 0
}
